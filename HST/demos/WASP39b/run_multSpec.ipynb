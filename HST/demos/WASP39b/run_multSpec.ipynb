{
 "cells": [
  {
   "cell_type": "markdown",
   "metadata": {},
   "source": [
    "# TITLE: Shared fitting of spectral channel light curves"
   ]
  },
  {
   "cell_type": "code",
   "execution_count": null,
   "metadata": {},
   "outputs": [],
   "source": [
    "from eureka.lib import multSpec\n",
    "# from eureka.lib import multSpec_July2024 as multSpec"
   ]
  },
  {
   "cell_type": "code",
   "execution_count": null,
   "metadata": {},
   "outputs": [],
   "source": [
    "## USER INPUTS ##\n",
    "\n",
    "optimizer_inputs_file = 'optimizer_inputs.txt'\n",
    "\n",
    "loc_sci_list = [\n",
    "'/home/Data/HST/WFC3/WASP39b/Visit04-07/',\n",
    "'/home/Data/HST/WFC3/WASP39b/Visit08-11/',\n",
    "'/home/Data/HST/WFC3/WASP39b/Visit12-15/',\n",
    "'/home/Data/HST/WFC3/WASP39b/Visit16-19/',\n",
    "'/home/Data/HST/WFC3/WASP39b/Visit24-27/',\n",
    "'/home/Data/HST/WFC3/WASP39b/Visit28-31/',\n",
    "'/home/Data/HST/WFC3/WASP39b/Visit32-35/',\n",
    "'/home/Data/HST/WFC3/WASP39b/Visit36-39/'\n",
    "]\n",
    "\n",
    "filepath_best_inputs_list = [\n",
    "'/home/DataAnalysis/HST/WASP39b/Optimized/Visit04-07/Optimized_2024-10-28_WASP39b_run1/',\n",
    "'/home/DataAnalysis/HST/WASP39b/Optimized/Visit08-11/Optimized_2024-10-28_WASP39b_run1/',\n",
    "'/home/DataAnalysis/HST/WASP39b/Optimized/Visit12-15/Optimized_2024-10-28_WASP39b_run1/',\n",
    "'/home/DataAnalysis/HST/WASP39b/Optimized/Visit16-19/Optimized_2024-10-28_WASP39b_run1/',\n",
    "'/home/DataAnalysis/HST/WASP39b/Optimized/Visit24-27/Optimized_2024-10-28_WASP39b_run1/',\n",
    "'/home/DataAnalysis/HST/WASP39b/Optimized/Visit28-31/Optimized_2024-10-28_WASP39b_run1/',\n",
    "'/home/DataAnalysis/HST/WASP39b/Optimized/Visit32-35/Optimized_2024-10-28_WASP39b_run1/',\n",
    "'/home/DataAnalysis/HST/WASP39b/Optimized/Visit36-39/Optimized_2024-10-28_WASP39b_run1/'\n",
    "] \n",
    "\n",
    "\n",
    "# # Define the list of lists for transits to mask\n",
    "# # transits_to_mask = [[2, 5] for _ in range(27)]\n",
    "# transits_to_mask = [[] for _ in range(27)]\n",
    "# transits_to_mask[1] = [3]\n",
    "transits_to_mask = []  # None\n",
    "\n",
    "\n",
    "# run_dir = '/home/DataAnalysis/HST/WASP39b//JointSpec/JointSpec_2024-10-29_WASP39b_run1/'\n",
    "# eventlabel = 'WASP39b'"
   ]
  },
  {
   "cell_type": "code",
   "execution_count": null,
   "metadata": {},
   "outputs": [],
   "source": [
    "# Run multSpec Stages 4-6\n",
    "eventlabel, run_dir = multSpec.Stage4 (optimizer_inputs_file, loc_sci_list, filepath_best_inputs_list)\n",
    "multSpec.Stage5(eventlabel, run_dir, transits_to_mask)\n",
    "multSpec.Stage6(eventlabel, run_dir)"
   ]
  }
 ],
 "metadata": {
  "kernelspec": {
   "display_name": "eureka_dev_tjb",
   "language": "python",
   "name": "python3"
  },
  "language_info": {
   "codemirror_mode": {
    "name": "ipython",
    "version": 3
   },
   "file_extension": ".py",
   "mimetype": "text/x-python",
   "name": "python",
   "nbconvert_exporter": "python",
   "pygments_lexer": "ipython3",
   "version": "3.9.7"
  }
 },
 "nbformat": 4,
 "nbformat_minor": 2
}
